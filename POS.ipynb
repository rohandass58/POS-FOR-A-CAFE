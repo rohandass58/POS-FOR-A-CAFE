{
 "cells": [
  {
   "cell_type": "code",
   "execution_count": null,
   "metadata": {},
   "outputs": [
    {
     "name": "stdout",
     "output_type": "stream",
     "text": [
      "Lemonade Stand starting up...\n",
      "Ready to take orders!\n",
      "What would you like to order (1-3)? One at a time, please.\n",
      "1. Glass of lemonade - $0.50\n",
      "2. Glass of grapefruit juice - $0.75\n",
      "3. Cookie - $1.00\n"
     ]
    },
    {
     "name": "stdin",
     "output_type": "stream",
     "text": [
      " 3\n",
      "How many?  2\n"
     ]
    },
    {
     "name": "stdout",
     "output_type": "stream",
     "text": [
      "What would you like to order (1-3)? One at a time, please.\n",
      "1. Glass of lemonade - $0.50\n",
      "2. Glass of grapefruit juice - $0.75\n",
      "3. Cookie - $1.00\n"
     ]
    },
    {
     "name": "stdin",
     "output_type": "stream",
     "text": [
      " \n"
     ]
    },
    {
     "name": "stdout",
     "output_type": "stream",
     "text": [
      "Cookies: 2. $2.00\n",
      "Total: $2.00\n"
     ]
    },
    {
     "name": "stdin",
     "output_type": "stream",
     "text": [
      "Input cash (n.nn):  2\n"
     ]
    },
    {
     "name": "stdout",
     "output_type": "stream",
     "text": [
      "Your change:\n",
      "Fifties: -1\n",
      "Twenties: 2\n",
      "Fives: 1\n",
      "Ones: 3\n",
      "Pennies: 2\n",
      "What would you like to order (1-3)? One at a time, please.\n",
      "1. Glass of lemonade - $0.50\n",
      "2. Glass of grapefruit juice - $0.75\n",
      "3. Cookie - $1.00\n"
     ]
    }
   ],
   "source": [
    "def get_order():\n",
    "    item = input()\n",
    "    if not item:\n",
    "        return '00'\n",
    "    if item == 'Q':\n",
    "        return 'QQ'\n",
    "    quantity = int(input('How many? '))\n",
    "    return item, quantity\n",
    "    \n",
    "register = 0\n",
    "order = ''\n",
    "prices = 50, 75, 100\n",
    "\n",
    "print('Lemonade Stand starting up...')\n",
    "print('Ready to take orders!')\n",
    "\n",
    "while 1:\n",
    "    print('What would you like to order (1-3)? One at a time, please.')\n",
    "    print('1. Glass of lemonade - $0.50\\n'\n",
    "          '2. Glass of grapefruit juice - $0.75\\n'\n",
    "          '3. Cookie - $1.00')\n",
    "    item, quantity = get_order()\n",
    "    if item == 'Q':\n",
    "        break\n",
    "    if item == '0':\n",
    "        quantities = list(order.count(obj) for obj in '123')\n",
    "        for name,number,price in zip(('Glasses of lemonade', 'Glasses of grapefruit juice', 'Cookies'),\n",
    "                                       quantities,\n",
    "                                       prices):\n",
    "            if number:\n",
    "                print('{}: {}. ${:.02f}'.format(name, number, number*price/100))\n",
    "        total = sum(name*number for name,number in zip(quantities, prices))\n",
    "        register += total\n",
    "        print('Total: ${:.02f}'.format(total/100))\n",
    "        tendered = int(input('Input cash (n.nn): ').replace('.', '').lstrip('0'))\n",
    "        change = tendered - total\n",
    "        denominations = ('Fifties', 'Twenties', 'Tens', 'Fives', 'Ones',\n",
    "                         'Quarters', 'Dimes', 'Nickels', 'Pennies')\n",
    "        user_denominations = {}\n",
    "        dollars, cents = divmod(change, 100)\n",
    "        user_denominations['Fifties'], dollars = divmod(dollars, 50)\n",
    "        user_denominations['Twenties'], dollars = divmod(dollars, 20)\n",
    "        user_denominations['Tens'], dollars = divmod(dollars, 10)\n",
    "        user_denominations['Fives'], user_denominations['Ones'] = divmod(dollars, 5)\n",
    "        user_denominations['Quarters'], cents = divmod(cents, 25)\n",
    "        user_denominations['Dimes'], cents = divmod(cents, 10)\n",
    "        user_denominations['Nickels'], user_denominations['Pennies'] = divmod(cents, 5)\n",
    "        if any(user_denominations.values()):\n",
    "            print('Your change:')\n",
    "            for denomination in denominations:\n",
    "                quant = user_denominations[denomination]\n",
    "                if quant:\n",
    "                    print('{}: {}'.format(denomination, quant))\n",
    "        order = ''\n",
    "    else:\n",
    "        order += item*quantity\n",
    "\n",
    "print(\"Today's total: ${:.02f}\".format(register/100))"
   ]
  },
  {
   "cell_type": "code",
   "execution_count": 36,
   "metadata": {},
   "outputs": [],
   "source": []
  },
  {
   "cell_type": "code",
   "execution_count": null,
   "metadata": {},
   "outputs": [],
   "source": []
  }
 ],
 "metadata": {
  "kernelspec": {
   "display_name": "Python 3",
   "language": "python",
   "name": "python3"
  },
  "language_info": {
   "codemirror_mode": {
    "name": "ipython",
    "version": 3
   },
   "file_extension": ".py",
   "mimetype": "text/x-python",
   "name": "python",
   "nbconvert_exporter": "python",
   "pygments_lexer": "ipython3",
   "version": "3.7.6"
  }
 },
 "nbformat": 4,
 "nbformat_minor": 4
}
